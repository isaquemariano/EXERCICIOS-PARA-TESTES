{
  "nbformat": 4,
  "nbformat_minor": 0,
  "metadata": {
    "colab": {
      "name": "imc.ipynb",
      "provenance": [],
      "authorship_tag": "ABX9TyPq08tmPtWD3L6XfdNRurrJ",
      "include_colab_link": true
    },
    "kernelspec": {
      "name": "python3",
      "display_name": "Python 3"
    },
    "language_info": {
      "name": "python"
    }
  },
  "cells": [
    {
      "cell_type": "markdown",
      "metadata": {
        "id": "view-in-github",
        "colab_type": "text"
      },
      "source": [
        "<a href=\"https://colab.research.google.com/github/isaquemariano/EXERCICIOS-PARA-TESTES/blob/main/imc.ipynb\" target=\"_parent\"><img src=\"https://colab.research.google.com/assets/colab-badge.svg\" alt=\"Open In Colab\"/></a>"
      ]
    },
    {
      "cell_type": "code",
      "metadata": {
        "colab": {
          "base_uri": "https://localhost:8080/"
        },
        "id": "XzGxcAPcmZrv",
        "outputId": "de0f7d8a-46ca-4400-ed33-6f432b7250fb"
      },
      "source": [
        "altura = float(input('qual é sua altura? '))\n",
        "peso = int(input('qual é seu peso? '))\n",
        "s = peso/altura**2\n",
        "print ('seu indice de massa corporal é igual a {:.2f}'.format(s))\n",
        "if s > 25:\n",
        "    print('voce precisa se alimentar melhor e fazer exercicios para se manter em forma')\n",
        "elif s < 19:\n",
        "    print('voce precisa ganhar peso, se alimente melhor')\n",
        "else:\n",
        "    print('Parabens seu peso esta ideal')"
      ],
      "execution_count": 2,
      "outputs": [
        {
          "output_type": "stream",
          "text": [
            "qual é sua altura? 1.73\n",
            "qual é seu peso? 90\n",
            "seu indice de massa corporal é igual a 30.07\n",
            "voce precisa se alimentar melhor e fazer exercicios para se manter em forma\n"
          ],
          "name": "stdout"
        }
      ]
    }
  ]
}